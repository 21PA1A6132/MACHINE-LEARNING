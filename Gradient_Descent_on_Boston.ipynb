{
  "nbformat": 4,
  "nbformat_minor": 0,
  "metadata": {
    "colab": {
      "provenance": [],
      "authorship_tag": "ABX9TyNtGjXC+jfwcA8WYGqE43m8",
      "include_colab_link": true
    },
    "kernelspec": {
      "name": "python3",
      "display_name": "Python 3"
    },
    "language_info": {
      "name": "python"
    }
  },
  "cells": [
    {
      "cell_type": "markdown",
      "metadata": {
        "id": "view-in-github",
        "colab_type": "text"
      },
      "source": [
        "<a href=\"https://colab.research.google.com/github/21PA1A6132/MACHINE-LEARNING/blob/main/Gradient_Descent_on_Boston.ipynb\" target=\"_parent\"><img src=\"https://colab.research.google.com/assets/colab-badge.svg\" alt=\"Open In Colab\"/></a>"
      ]
    },
    {
      "cell_type": "code",
      "execution_count": null,
      "metadata": {
        "id": "o3EqqbhMDl4H"
      },
      "outputs": [],
      "source": [
        "import numpy as np\n",
        "import pandas as pd\n",
        "import matplotlib.pyplot as plt"
      ]
    },
    {
      "cell_type": "code",
      "source": [
        "Boston = np.loadtxt('/content/drive/MyDrive/Machine Learning/boston_x_y_train.csv',delimiter=',')"
      ],
      "metadata": {
        "id": "XHtRyBUZDwWv"
      },
      "execution_count": null,
      "outputs": []
    },
    {
      "cell_type": "code",
      "source": [
        "Boston.shape"
      ],
      "metadata": {
        "colab": {
          "base_uri": "https://localhost:8080/"
        },
        "id": "OG0ovPTZ6Ib9",
        "outputId": "01b19baa-6b15-46cf-b645-3e90e79ae709"
      },
      "execution_count": null,
      "outputs": [
        {
          "output_type": "execute_result",
          "data": {
            "text/plain": [
              "(379, 14)"
            ]
          },
          "metadata": {},
          "execution_count": 66
        }
      ]
    },
    {
      "cell_type": "code",
      "source": [
        "x = Boston[:,:13]\n",
        "y = Boston[:,13]\n"
      ],
      "metadata": {
        "id": "fwfPBiq3jtLB"
      },
      "execution_count": null,
      "outputs": []
    },
    {
      "cell_type": "code",
      "source": [
        "from sklearn.preprocessing import StandardScaler\n",
        "\n",
        "scaler = StandardScaler()\n",
        "x_normalized = scaler.fit_transform(x)\n",
        "x = x_normalized"
      ],
      "metadata": {
        "id": "XSalmLPjqfLq"
      },
      "execution_count": null,
      "outputs": []
    },
    {
      "cell_type": "code",
      "source": [
        "c_column = np.ones((379,1))\n",
        "x= np.concatenate((x,c_column),axis=1)"
      ],
      "metadata": {
        "id": "4bf0oZ_znWHy"
      },
      "execution_count": null,
      "outputs": []
    },
    {
      "cell_type": "code",
      "source": [
        "M=x.shape[0]\n",
        "N=x.shape[1]\n",
        "print(M)\n",
        "print(N)"
      ],
      "metadata": {
        "colab": {
          "base_uri": "https://localhost:8080/"
        },
        "id": "L213N0Orj-1B",
        "outputId": "c9903c9c-2fa4-4c89-fc3c-e46ee2e9c6e6"
      },
      "execution_count": null,
      "outputs": [
        {
          "output_type": "stream",
          "name": "stdout",
          "text": [
            "379\n",
            "14\n"
          ]
        }
      ]
    },
    {
      "cell_type": "code",
      "source": [
        "def stepgrad(x,y,learning_rate,m):\n",
        "  m_slope = np.zeros(N)\n",
        "  for i in range(M):\n",
        "    prediction =np.dot(x[i],m)\n",
        "    error = y[i]-prediction\n",
        "    for j in range(N):\n",
        "       m_slope[j] += (-2 / M) * error * x[i,j]\n",
        "  new_m = m - (learning_rate * m_slope)\n",
        "  return new_m"
      ],
      "metadata": {
        "id": "XbeO9xQqpzQ1"
      },
      "execution_count": null,
      "outputs": []
    },
    {
      "cell_type": "code",
      "source": [
        "def cost(x,y,m):\n",
        "  total_cost=0\n",
        "  for i in range(M):\n",
        "    for j in range(N):\n",
        "      total_cost += (1/M)*((y[i]-m[j]*x[i][j])**2)\n",
        "  return total_cost"
      ],
      "metadata": {
        "id": "PDbmLx5am4lJ"
      },
      "execution_count": null,
      "outputs": []
    },
    {
      "cell_type": "code",
      "source": [
        "def gradient(x,y,num_iterations,learning_rate):\n",
        "  m = np.zeros(x.shape[1])\n",
        "  costs = []\n",
        "  for i in range(num_iterations):\n",
        "    m = stepgrad(x, y, learning_rate, m)\n",
        "    if i % 10 == 0:  # Record cost every 10 iterations\n",
        "      current_cost = cost(x, y, m)\n",
        "      costs.append(current_cost)\n",
        "      print(i, \"Cost:\", current_cost)\n",
        "  return m, costs"
      ],
      "metadata": {
        "id": "0HPSDRJTkyq9"
      },
      "execution_count": null,
      "outputs": []
    },
    {
      "cell_type": "code",
      "source": [
        "training_iterations = 1000  # Increase iterations\n",
        "learning_rate = 0.01  # Adjust learning rate\n",
        "m, costs = gradient(x, y, training_iterations, learning_rate)\n",
        "print(\"Final coefficients:\", m)\n"
      ],
      "metadata": {
        "colab": {
          "base_uri": "https://localhost:8080/"
        },
        "id": "WJoQgxuekeJM",
        "outputId": "1247882a-1de2-4d27-e448-9ef9eabbe46b"
      },
      "execution_count": null,
      "outputs": [
        {
          "output_type": "stream",
          "name": "stdout",
          "text": [
            "0 Cost: 8358.614760018003\n",
            "10 Cost: 8147.438805956024\n",
            "20 Cost: 8021.730471880308\n",
            "30 Cost: 7941.627281015819\n",
            "40 Cost: 7889.186719064498\n",
            "50 Cost: 7854.468367652465\n",
            "60 Cost: 7831.37882481721\n",
            "70 Cost: 7816.0019181329435\n",
            "80 Cost: 7805.766476683431\n",
            "90 Cost: 7798.968069134837\n",
            "100 Cost: 7794.471635102675\n",
            "110 Cost: 7791.519400450455\n",
            "120 Cost: 7789.60462724284\n",
            "130 Cost: 7788.387978596527\n",
            "140 Cost: 7787.641905714441\n",
            "150 Cost: 7787.213594022555\n",
            "160 Cost: 7787.000243522271\n",
            "170 Cost: 7786.93256163373\n",
            "180 Cost: 7786.963730628489\n",
            "190 Cost: 7787.062027772855\n",
            "200 Cost: 7787.205884478634\n",
            "210 Cost: 7787.380575230218\n",
            "220 Cost: 7787.575996342021\n",
            "230 Cost: 7787.785174039611\n",
            "240 Cost: 7788.0032610035605\n",
            "250 Cost: 7788.2268603513085\n",
            "260 Cost: 7788.453569328485\n",
            "270 Cost: 7788.6816705900565\n",
            "280 Cost: 7788.909922749501\n",
            "290 Cost: 7789.137417793976\n",
            "300 Cost: 7789.363483617703\n",
            "310 Cost: 7789.587617060263\n",
            "320 Cost: 7789.809437621078\n",
            "330 Cost: 7790.028655227611\n",
            "340 Cost: 7790.245047589659\n",
            "350 Cost: 7790.45844412048\n",
            "360 Cost: 7790.668714378514\n",
            "370 Cost: 7790.875759640319\n",
            "380 Cost: 7791.07950665897\n",
            "390 Cost: 7791.279902959886\n",
            "400 Cost: 7791.47691323064\n",
            "410 Cost: 7791.670516497745\n",
            "420 Cost: 7791.860703877742\n",
            "430 Cost: 7792.047476753544\n",
            "440 Cost: 7792.230845271375\n",
            "450 Cost: 7792.410827083221\n",
            "460 Cost: 7792.587446281336\n",
            "470 Cost: 7792.760732484931\n",
            "480 Cost: 7792.930720050773\n",
            "490 Cost: 7793.097447385168\n",
            "500 Cost: 7793.2609563408405\n",
            "510 Cost: 7793.42129168593\n",
            "520 Cost: 7793.57850063448\n",
            "530 Cost: 7793.732632430435\n",
            "540 Cost: 7793.883737978153\n",
            "550 Cost: 7794.031869514142\n",
            "560 Cost: 7794.177080314586\n",
            "570 Cost: 7794.319424435854\n",
            "580 Cost: 7794.4589564828875\n",
            "590 Cost: 7794.595731404139\n",
            "600 Cost: 7794.729804308879\n",
            "610 Cost: 7794.861230305906\n",
            "620 Cost: 7794.990064360506\n",
            "630 Cost: 7795.116361168148\n",
            "640 Cost: 7795.240175043997\n",
            "650 Cost: 7795.361559825217\n",
            "660 Cost: 7795.4805687864055\n",
            "670 Cost: 7795.597254565698\n",
            "680 Cost: 7795.711669101163\n",
            "690 Cost: 7795.823863576251\n",
            "700 Cost: 7795.933888373306\n",
            "710 Cost: 7796.041793034634\n",
            "720 Cost: 7796.147626230001\n",
            "730 Cost: 7796.251435730551\n",
            "740 Cost: 7796.353268387401\n",
            "750 Cost: 7796.453170115714\n",
            "760 Cost: 7796.551185882781\n",
            "770 Cost: 7796.647359700149\n",
            "780 Cost: 7796.7417346188095\n",
            "790 Cost: 7796.834352728089\n",
            "800 Cost: 7796.925255156776\n",
            "810 Cost: 7797.01448207694\n",
            "820 Cost: 7797.102072709836\n",
            "830 Cost: 7797.188065333679\n",
            "840 Cost: 7797.272497293037\n",
            "850 Cost: 7797.355405009883\n",
            "860 Cost: 7797.436823995707\n",
            "870 Cost: 7797.516788864724\n",
            "880 Cost: 7797.595333348229\n",
            "890 Cost: 7797.672490309364\n",
            "900 Cost: 7797.748291759015\n",
            "910 Cost: 7797.822768871821\n",
            "920 Cost: 7797.895952002856\n",
            "930 Cost: 7797.967870704721\n",
            "940 Cost: 7798.038553744583\n",
            "950 Cost: 7798.108029121934\n",
            "960 Cost: 7798.176324085735\n",
            "970 Cost: 7798.243465152384\n",
            "980 Cost: 7798.309478123072\n",
            "990 Cost: 7798.374388101603\n",
            "Final coefficients: [-0.9582446   0.6400255  -0.21647403  0.84245988 -2.06849577  2.39880225\n",
            "  0.09193144 -2.97708855  2.05013367 -1.15281836 -2.21812055  0.58896492\n",
            " -4.31302282 22.60949864]\n"
          ]
        }
      ]
    },
    {
      "cell_type": "code",
      "source": [
        "# Plotting the cost trend\n",
        "plt.plot(range(0, training_iterations, 10), costs)\n",
        "plt.xlabel('Iterations')\n",
        "plt.ylabel('Cost')\n",
        "plt.title('Cost Trend Over Iterations')\n",
        "plt.show()\n"
      ],
      "metadata": {
        "colab": {
          "base_uri": "https://localhost:8080/",
          "height": 472
        },
        "id": "j7aYgtc2FN5X",
        "outputId": "f0fb66dc-5ebb-4312-e866-696dfd8284c1"
      },
      "execution_count": null,
      "outputs": [
        {
          "output_type": "display_data",
          "data": {
            "text/plain": [
              "<Figure size 640x480 with 1 Axes>"
            ],
            "image/png": "[encoded data removed]"
          },
          "metadata": {}
        }
      ]
    },
    {
      "cell_type": "code",
      "source": [
        "def mean_squared_error(y_true, y_pred):\n",
        "    return np.mean((y_true - y_pred) ** 2)\n",
        "\n",
        "def r_squared(y_true, y_pred):\n",
        "    ss_res = np.sum((y_true - y_pred) ** 2)\n",
        "    ss_tot = np.sum((y_true - np.mean(y_true)) ** 2)\n",
        "    return 1 - (ss_res / ss_tot)"
      ],
      "metadata": {
        "id": "W84gntgRFUM-"
      },
      "execution_count": null,
      "outputs": []
    },
    {
      "cell_type": "code",
      "source": [
        "y_pred_train = np.dot(x,m)\n",
        "mse_train = mean_squared_error(y, y_pred_train)\n",
        "r2_train = r_squared(y, y_pred_train)\n",
        "print(f'Mean Squared Error on training data: {mse_train}')\n",
        "print(f'R-squared on training data: {r2_train}')"
      ],
      "metadata": {
        "colab": {
          "base_uri": "https://localhost:8080/"
        },
        "id": "Mx4WpeglGLhL",
        "outputId": "181c6d19-1e7a-404d-b46c-ba9eae199daf"
      },
      "execution_count": null,
      "outputs": [
        {
          "output_type": "stream",
          "name": "stdout",
          "text": [
            "Mean Squared Error on training data: 23.511840724956585\n",
            "R-squared on training data: 0.7326159246456125\n"
          ]
        }
      ]
    },
    {
      "cell_type": "code",
      "source": [
        "x_test = np.loadtxt('/content/drive/MyDrive/Machine Learning/boston_x_test.csv',delimiter=',')\n",
        "c_column = np.ones((127,1))\n",
        "x_test= np.concatenate((x_test,c_column),axis=1)"
      ],
      "metadata": {
        "id": "4-eOUXGMFnzL"
      },
      "execution_count": null,
      "outputs": []
    },
    {
      "cell_type": "code",
      "source": [
        "y_pred_test = np.dot(x_test,m)\n"
      ],
      "metadata": {
        "id": "OE6rSa8wGDlQ"
      },
      "execution_count": null,
      "outputs": []
    },
    {
      "cell_type": "code",
      "source": [
        "# Assuming 'y_pred_test' contains the predictions\n",
        "np.savetxt('/content/drive/MyDrive/Machine Learning/boston_y_pred_test.csv', y_pred_test, delimiter=',')\n"
      ],
      "metadata": {
        "id": "GoAfTOMVG3Ey"
      },
      "execution_count": null,
      "outputs": []
    },
    {
      "cell_type": "code",
      "source": [
        "print(y_pred_test)\n"
      ],
      "metadata": {
        "id": "9TJFZ9K0G6PS",
        "outputId": "ed3eba25-a132-490e-bb84-46535ced34d3",
        "colab": {
          "base_uri": "https://localhost:8080/"
        }
      },
      "execution_count": null,
      "outputs": [
        {
          "output_type": "stream",
          "name": "stdout",
          "text": [
            "[12.08000096 28.77232847 22.43030522 24.20786186 20.85964911  2.60675343\n",
            " 30.04831326 24.7064402  18.70308426 23.5041193  24.1012911  17.72989878\n",
            " 17.69006695 21.68654836 42.65436519 23.87746713 24.39683299 27.71237369\n",
            " 20.20584741 31.3590747  24.05599087 24.88303149 33.95835125 36.45700168\n",
            " 32.01769176 16.42325457 23.42963375 33.14164466 25.01429481 33.83631571\n",
            " 16.90564321 26.16390365 23.36113567 25.38126891 14.79632517 29.64063358\n",
            " 26.168845   20.58736548 24.12092738  9.20867199  8.02200663 28.81939205\n",
            " 29.51051786 19.87732423 20.25868593  2.79486145 39.55788327 25.71056785\n",
            " 29.91006696 16.69860639 17.73857761 40.57444236 17.48343428 21.09853378\n",
            " 15.5873732  21.24147295 18.36435067 23.13137087 13.64730058 17.10768869\n",
            " 14.8519273  29.18999536 25.3025832  25.48713701 17.06041773 17.21526246\n",
            " 34.69383133 16.89686793 27.00706243 22.40519561 29.45895517 27.02211453\n",
            " 17.82160075  5.41221615 36.49451121 25.06614141 29.88695762 27.03372935\n",
            " 16.05160768 32.58793643 19.25919799 22.8912219  22.75699451  8.11309347\n",
            " 17.23647019 29.2288773  26.99040374  5.57122915 21.11068963 20.0040613\n",
            " 22.05111305 20.70296275 21.06155016 13.08045473 19.77261876 26.182162\n",
            " 40.06272417 18.93648295 33.51867743 26.84836651 28.64732765 21.93324951\n",
            " 25.83570218 31.44683666 17.07501612 26.33900733 21.51830259 36.87436542\n",
            " 21.78138325 16.59479174 27.58667174 -0.50577765 13.95425331 16.14216598\n",
            " 35.8011217  21.10350753 20.84809598 25.23102296 21.87699817 18.93356608\n",
            " 13.46852491 35.35729489 23.14921128 24.67879229 17.65831071 20.95645128\n",
            " 14.78922143]\n"
          ]
        }
      ]
    }
  ]
}