{
  "cells": [
    {
      "cell_type": "markdown",
      "metadata": {
        "id": "view-in-github",
        "colab_type": "text"
      },
      "source": [
        "<a href=\"https://colab.research.google.com/github/21PA1A6132/MACHINE-LEARNING/blob/main/LinearRegression_code.ipynb\" target=\"_parent\"><img src=\"https://colab.research.google.com/assets/colab-badge.svg\" alt=\"Open In Colab\"/></a>"
      ]
    },
    {
      "cell_type": "code",
      "execution_count": 11,
      "metadata": {
        "collapsed": true,
        "id": "sQAPY_0Ps0SV"
      },
      "outputs": [],
      "source": [
        "import numpy as np"
      ]
    },
    {
      "cell_type": "code",
      "execution_count": 12,
      "metadata": {
        "collapsed": true,
        "id": "S9xNgAlis0SY"
      },
      "outputs": [],
      "source": [
        "data = np.loadtxt(\"/content/data.csv\", delimiter=\",\")"
      ]
    },
    {
      "cell_type": "code",
      "execution_count": 13,
      "metadata": {
        "collapsed": true,
        "id": "OGTZl4Als0SZ"
      },
      "outputs": [],
      "source": [
        "x = data[:, 0]\n",
        "y = data[:, 1]"
      ]
    },
    {
      "cell_type": "code",
      "execution_count": 14,
      "metadata": {
        "colab": {
          "base_uri": "https://localhost:8080/"
        },
        "id": "_rXncTlPs0SZ",
        "outputId": "96daa385-3293-4469-dc17-96dd033d5d7c"
      },
      "outputs": [
        {
          "output_type": "stream",
          "name": "stdout",
          "text": [
            "(100,)\n",
            "(100,)\n"
          ]
        }
      ],
      "source": [
        "print(x.shape)\n",
        "print(y.shape)"
      ]
    },
    {
      "cell_type": "code",
      "execution_count": 27,
      "metadata": {
        "colab": {
          "base_uri": "https://localhost:8080/"
        },
        "id": "YnCgNI1xs0Sa",
        "outputId": "ead64c40-2f31-4a89-8d71-fc10f995c6ed"
      },
      "outputs": [
        {
          "output_type": "execute_result",
          "data": {
            "text/plain": [
              "(65,)"
            ]
          },
          "metadata": {},
          "execution_count": 27
        }
      ],
      "source": [
        "from sklearn import model_selection\n",
        "X_train, X_test, Y_train, Y_test = model_selection.train_test_split(x, y, test_size=0.35)\n",
        "X_train.shape"
      ]
    },
    {
      "cell_type": "code",
      "execution_count": 28,
      "metadata": {
        "collapsed": true,
        "id": "Vskyypobs0Sb"
      },
      "outputs": [],
      "source": [
        "def fit(x_train, y_train):\n",
        "    num = (x_train*y_train).mean() - x_train.mean() * y_train.mean()\n",
        "    den = (x_train**2).mean() - x_train.mean()**2\n",
        "    m = num/den\n",
        "    c = y_train.mean() - m * x_train.mean()\n",
        "    return m, c\n",
        ""
      ]
    },
    {
      "cell_type": "code",
      "execution_count": 29,
      "metadata": {
        "collapsed": true,
        "id": "VJJeJtH2s0Sb"
      },
      "outputs": [],
      "source": [
        "def predict(x, m, c):\n",
        "    return m * x + c\n",
        "\n",
        "def score(y_truth, y_pred):\n",
        "    u = ((y_truth - y_pred)**2).sum()\n",
        "    v = ((y_truth - y_truth.mean())**2).sum()\n",
        "    return 1 - u/v\n",
        "\n",
        "def cost (x, y, m , c):\n",
        "    return ((y - m * x - c)**2).mean()"
      ]
    },
    {
      "cell_type": "code",
      "execution_count": 30,
      "metadata": {
        "colab": {
          "base_uri": "https://localhost:8080/"
        },
        "id": "FEN9OFgds0Sc",
        "outputId": "49a41710-40e0-4d40-c108-c4390a0f8a00"
      },
      "outputs": [
        {
          "output_type": "stream",
          "name": "stdout",
          "text": [
            "Test Score:  0.6166707784179024\n",
            "Train Score:  0.5416507920411848\n",
            "M, C  1.1142484838331284 17.884025546467775\n",
            "Cost on training data  85.70830865617792\n"
          ]
        }
      ],
      "source": [
        "m, c = fit(X_train, Y_train)\n",
        "# test data\n",
        "y_test_pred = predict(X_test, m, c)\n",
        "print(\"Test Score: \",score(Y_test, y_test_pred))\n",
        "\n",
        "#train data\n",
        "y_train_pred = predict(X_train, m, c)\n",
        "print(\"Train Score: \", score(Y_train, y_train_pred))\n",
        "print(\"M, C \", m , c)\n",
        "print(\"Cost on training data \", cost(X_train,Y_train, m, c ))"
      ]
    },
    {
      "cell_type": "code",
      "execution_count": null,
      "metadata": {
        "collapsed": true,
        "id": "bEfK7_yXs0Sc"
      },
      "outputs": [],
      "source": []
    },
    {
      "cell_type": "code",
      "execution_count": null,
      "metadata": {
        "collapsed": true,
        "id": "0Fdqblips0Sc"
      },
      "outputs": [],
      "source": []
    }
  ],
  "metadata": {
    "kernelspec": {
      "display_name": "Python 3",
      "language": "python",
      "name": "python3"
    },
    "language_info": {
      "codemirror_mode": {
        "name": "ipython",
        "version": 3
      },
      "file_extension": ".py",
      "mimetype": "text/x-python",
      "name": "python",
      "nbconvert_exporter": "python",
      "pygments_lexer": "ipython3",
      "version": "3.6.8"
    },
    "colab": {
      "provenance": [],
      "include_colab_link": true
    }
  },
  "nbformat": 4,
  "nbformat_minor": 0
}